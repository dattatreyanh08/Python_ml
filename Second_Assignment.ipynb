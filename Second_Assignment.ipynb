{
  "nbformat": 4,
  "nbformat_minor": 0,
  "metadata": {
    "colab": {
      "provenance": [],
      "authorship_tag": "ABX9TyPv2UzPpXKMqeniktfwBZnr",
      "include_colab_link": true
    },
    "kernelspec": {
      "name": "python3",
      "display_name": "Python 3"
    },
    "language_info": {
      "name": "python"
    }
  },
  "cells": [
    {
      "cell_type": "markdown",
      "metadata": {
        "id": "view-in-github",
        "colab_type": "text"
      },
      "source": [
        "<a href=\"https://colab.research.google.com/github/dattatreyanh08/Python_ml/blob/main/Second_Assignment.ipynb\" target=\"_parent\"><img src=\"https://colab.research.google.com/assets/colab-badge.svg\" alt=\"Open In Colab\"/></a>"
      ]
    },
    {
      "cell_type": "markdown",
      "source": [
        "SECOND ASSIGNMENT ON CONDITONAL STATEMENTS AND OPERATORS BASED ON PYTHON SEQUENCE,UNSEQUENCE DATA TYPES,"
      ],
      "metadata": {
        "id": "9qnYtaZP2cI5"
      }
    },
    {
      "cell_type": "markdown",
      "source": [
        "Sequence Data type - List  (Findiing largest,smallent,sorting the given data,finding the data, inserting data)"
      ],
      "metadata": {
        "id": "hwf5p_M5FL29"
      }
    },
    {
      "cell_type": "code",
      "execution_count": null,
      "metadata": {
        "colab": {
          "base_uri": "https://localhost:8080/"
        },
        "id": "Pz87a8y-ER1S",
        "outputId": "1d48c9a6-e702-48e2-a80e-5fb0449b0327"
      },
      "outputs": [
        {
          "output_type": "stream",
          "name": "stdout",
          "text": [
            "['hii', 888, 0.8]\n",
            "888\n",
            "['hii', 888, 0.8, 8, 18, 88, 80, 0, 1, 3]\n",
            "[0, 1, 3, 8, 18, 80, 88]\n",
            "[0.8]\n",
            "[88, 80, 18, 8, 3, 1, 0]\n",
            "0\n",
            "88\n",
            "[88, 80, 18, 8, 3, 1, 0, 10, 20, 30, 40]\n",
            "['hii', 888, 0.8, 'Itachi']\n",
            "['Garou', 888, 0.8, 'Itachi']\n",
            "['a', 'y', 'e', 'r', 't', 'a', 't', 't', 'a', 'd']\n",
            "['a', 'a', 'a', 'd', 'e', 'r', 't', 't', 't', 'y']\n",
            "['y', 't', 't', 't', 'r', 'e', 'd', 'a', 'a', 'a']\n"
          ]
        }
      ],
      "source": [
        "list0=['d','a','t','t','a','t','r','e','y','a']\n",
        "list1=['hii',888,0.8]\n",
        "list2=[8,18,88,80,0,1,3]\n",
        "print(list1)\n",
        "print(list1[1])\n",
        "# Adding two lists\n",
        "list3=list1 + list2\n",
        "print(list3)\n",
        "#Sorting the list\n",
        "list2.sort()\n",
        "print(list2)\n",
        "#Indexing\n",
        "print(list1[2:3])\n",
        "#Reversing the given list\n",
        "list2.reverse()\n",
        "print(list2)\n",
        "#Finding the maximum and minimum in the list\n",
        "print(min(list2))\n",
        "print(max(list2))\n",
        "# Incresing the list\n",
        "list2.extend([10,20,30,40])\n",
        "print(list2)\n",
        "# Adding new data to the list\n",
        "list1.append('Itachi')\n",
        "print(list1)\n",
        "list1[0]='Garou'\n",
        "print(list1)\n",
        "#############\n",
        "list0.reverse()\n",
        "print(list0)\n",
        "list0.sort()\n",
        "print(list0)\n",
        "list0.reverse()\n",
        "print(list0)\n"
      ]
    },
    {
      "cell_type": "markdown",
      "source": [
        "***Tuple*** - Sorting, reversing, indexing, finding max and min in the list"
      ],
      "metadata": {
        "id": "l2X7kXw8dtc3"
      }
    },
    {
      "cell_type": "code",
      "source": [
        "tuple1=(8,18,80,88,888,3,33,333)\n",
        "tuple2=('goku','vegeta','itachi','ayanukoji','garou')\n",
        "# Adding tuples\n",
        "tuple3=tuple1+tuple2\n",
        "print(tuple3)\n",
        "# Indexing\n",
        "print(tuple3[3])\n",
        "# sorting the list\n",
        "list1=list(tuple1)\n",
        "print(list1)\n",
        "list1.sort()\n",
        "print(list1)\n",
        "tuple4=tuple(list1)\n",
        "print(tuple4)\n",
        "# Reversing the list\n",
        "list2=list(tuple4)\n",
        "print(list2)\n",
        "list2.reverse()\n",
        "print(list2)\n",
        "tuple4=tuple(list2)\n",
        "print(tuple4)\n",
        "# Finding the maximum and minimum\n",
        "print(min(tuple4))\n",
        "print(max(tuple4))\n",
        "tuple6=('Hii',121,0.5)\n",
        "print(tuple6)"
      ],
      "metadata": {
        "id": "3dxaVvY-Gx25",
        "colab": {
          "base_uri": "https://localhost:8080/"
        },
        "outputId": "a431afd5-1f5c-44a6-baa5-a0207510bb74"
      },
      "execution_count": null,
      "outputs": [
        {
          "output_type": "stream",
          "name": "stdout",
          "text": [
            "(8, 18, 80, 88, 888, 3, 33, 333, 'goku', 'vegeta', 'itachi', 'ayanukoji', 'garou')\n",
            "88\n",
            "[8, 18, 80, 88, 888, 3, 33, 333]\n",
            "[3, 8, 18, 33, 80, 88, 333, 888]\n",
            "(3, 8, 18, 33, 80, 88, 333, 888)\n",
            "[3, 8, 18, 33, 80, 88, 333, 888]\n",
            "[888, 333, 88, 80, 33, 18, 8, 3]\n",
            "(888, 333, 88, 80, 33, 18, 8, 3)\n",
            "3\n",
            "888\n",
            "('Hii', 121, 0.5)\n"
          ]
        }
      ]
    },
    {
      "cell_type": "markdown",
      "source": [
        "***Non Sequence Data Type*** - ***Set***"
      ],
      "metadata": {
        "id": "WdwJ7DCklEIV"
      }
    },
    {
      "cell_type": "code",
      "source": [
        "set1={'goku','vegeta',8,88,888}\n",
        "set2={3,0.3,333,'Monster','devil','garou'}\n",
        "set3 = set1 | set2\n",
        "print(set3)\n",
        "set3.add(808)\n",
        "print(set3)\n",
        "# Sorting the list3\n",
        "list1=list(set3)\n",
        "list1[0:1]=0.8,0.3\n",
        "print(list1)\n",
        "list1.remove('garou')\n",
        "list1.remove('Monster')\n",
        "list1.remove('devil')\n",
        "list1.remove('goku')\n",
        "list1.remove('vegeta')\n",
        "print(list1)\n",
        "list1.sort()\n",
        "print(list1)\n",
        "set4=tuple(list1)\n",
        "print(set4)\n",
        "set5=(input())"
      ],
      "metadata": {
        "colab": {
          "base_uri": "https://localhost:8080/"
        },
        "id": "3jso9nptlR1k",
        "outputId": "869427ac-f163-4c86-831c-574e3ee8b94d"
      },
      "execution_count": null,
      "outputs": [
        {
          "name": "stdout",
          "output_type": "stream",
          "text": [
            "{0.3, 3, 'garou', 8, 'Monster', 'devil', 333, 888, 'goku', 88, 'vegeta'}\n",
            "{0.3, 3, 'garou', 8, 808, 'Monster', 'devil', 333, 888, 'goku', 88, 'vegeta'}\n",
            "[0.8, 0.3, 3, 'garou', 8, 808, 'Monster', 'devil', 333, 888, 'goku', 88, 'vegeta']\n",
            "[0.8, 0.3, 3, 8, 808, 333, 888, 88]\n",
            "[0.3, 0.8, 3, 8, 88, 333, 808, 888]\n",
            "(0.3, 0.8, 3, 8, 88, 333, 808, 888)\n",
            "dattatreya\n"
          ]
        }
      ]
    },
    {
      "cell_type": "markdown",
      "source": [
        "***Dictionary***"
      ],
      "metadata": {
        "id": "EBaREqlAxULz"
      }
    },
    {
      "cell_type": "code",
      "source": [
        "dictionary_1={'Garou':8,'goku':88,'vegeta':888}\n",
        "dictionary_2={'naruto':3,'itachi':33,'jiraya':333}\n",
        "# Adding the 2 dictionary\n",
        "di_3= dictionary_1 | dictionary_2\n",
        "print(di_3)\n",
        "# Changing the value with help of key\n",
        "dictionary_1['Garou']=81\n",
        "print(dictionary_1)\n",
        "\n"
      ],
      "metadata": {
        "colab": {
          "base_uri": "https://localhost:8080/"
        },
        "id": "jcniV-IBxyRy",
        "outputId": "d3e5f7ce-eeb3-47bc-e28b-c82dc10c704e"
      },
      "execution_count": null,
      "outputs": [
        {
          "output_type": "stream",
          "name": "stdout",
          "text": [
            "{'Garou': 8, 'goku': 88, 'vegeta': 888, 'naruto': 3, 'itachi': 33, 'jiraya': 333}\n",
            "{'Garou': 81, 'goku': 88, 'vegeta': 888}\n"
          ]
        }
      ]
    },
    {
      "cell_type": "markdown",
      "source": [
        "***Programs Using Conditional Statements***\n",
        "\n",
        "TO CHECK ENTERED NUMBER IS EVEN OR ODD"
      ],
      "metadata": {
        "id": "xSYa_ZizBZQf"
      }
    },
    {
      "cell_type": "code",
      "source": [
        "a=(input('Enter Value Of A : '))\n",
        "number= int(a)\n",
        "if (number%2==0) :\n",
        "  print('Entered Number Is Even Number')\n",
        "else:\n",
        "  print('Entered Number Is Odd')"
      ],
      "metadata": {
        "colab": {
          "base_uri": "https://localhost:8080/"
        },
        "id": "wQehgQkSBoiq",
        "outputId": "1965ec5b-8115-4101-9b1a-ba630cb480ed"
      },
      "execution_count": null,
      "outputs": [
        {
          "output_type": "stream",
          "name": "stdout",
          "text": [
            "Enter Value Of A : 3\n",
            "Entered Number Is Odd\n"
          ]
        }
      ]
    },
    {
      "cell_type": "markdown",
      "source": [
        "**Program To Check Which Number Is Greater**"
      ],
      "metadata": {
        "id": "vzjkUJICIVYK"
      }
    },
    {
      "cell_type": "code",
      "source": [
        "a=int(input('Enter Value Of A :'))\n",
        "b=int(input('Enter Value Of B :'))\n",
        "if a>b :\n",
        "  print('A Is Greater Than B')\n",
        "elif a==b:\n",
        "  print('A Is Equal TO B')\n",
        "else:\n",
        "  print('A Is Less Than B')"
      ],
      "metadata": {
        "id": "J9BnEgt4IlOO",
        "colab": {
          "base_uri": "https://localhost:8080/"
        },
        "outputId": "899a4cb3-b08d-46a1-d805-598c74353a70"
      },
      "execution_count": null,
      "outputs": [
        {
          "output_type": "stream",
          "name": "stdout",
          "text": [
            "Enter Value Of A :3\n",
            "Enter Value Of B :8\n",
            "A Is Less Than B\n"
          ]
        }
      ]
    },
    {
      "cell_type": "markdown",
      "source": [
        "***To Check Whether Entered Number Is In The List Or Not***"
      ],
      "metadata": {
        "id": "45MED_GDMcKR"
      }
    },
    {
      "cell_type": "code",
      "source": [
        "list1=[8,88,3,33]\n",
        "number=int(input('Enter Any Number To Check It Is In The List Or Not :'))\n",
        "if list1[0]==number:\n",
        "  print('Entered Number Is In The List')\n",
        "elif list[1]==number:\n",
        "   print('Entered Number Is In The List')\n",
        "elif list[2]==number:\n",
        "   print('Entered Number Is In The List')\n",
        "elif list[3]==number:\n",
        "   print('Entered Number Is In The List')\n",
        "else:\n",
        "  print('Entered Number Is Not In The List')"
      ],
      "metadata": {
        "colab": {
          "base_uri": "https://localhost:8080/"
        },
        "id": "M3lZctSFKlBz",
        "outputId": "99344c31-8e09-48c6-b05c-536d4125575f"
      },
      "execution_count": null,
      "outputs": [
        {
          "output_type": "stream",
          "name": "stdout",
          "text": [
            "Enter Any Number To Check It Is In The List Or Not :888\n",
            "Entered Number Is Not In The List\n"
          ]
        }
      ]
    }
  ]
}